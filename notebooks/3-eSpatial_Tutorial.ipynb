{
 "cells": [
  {
   "cell_type": "markdown",
   "id": "fac56c14-91a3-46dc-85ec-5375e1649760",
   "metadata": {},
   "source": [
    "eSpatial - Tutorial"
   ]
  },
  {
   "cell_type": "markdown",
   "id": "5837f260-08ff-4604-9b2c-a39b3955e4c6",
   "metadata": {},
   "source": [
    "Run eSpatial on example data"
   ]
  },
  {
   "cell_type": "markdown",
   "id": "698a6731-d972-4677-b6db-97064c947b97",
   "metadata": {
    "editable": true,
    "slideshow": {
     "slide_type": ""
    },
    "tags": []
   },
   "source": [
    "This notebook illustrates how to run eSpatial to decipher the spatially resolved enhancer regulation on gene expression through integrating spatial profiling of gene expression and chromatin accessibility."
   ]
  },
  {
   "cell_type": "markdown",
   "id": "47fedb36-552a-40e3-b841-1fc61de633a5",
   "metadata": {},
   "source": [
    "# Library packages and source functions"
   ]
  },
  {
   "cell_type": "code",
   "execution_count": 1,
   "id": "8c54bceb-4f49-486b-9113-c8ad316eeb0d",
   "metadata": {
    "collapsed": true,
    "editable": true,
    "jupyter": {
     "outputs_hidden": true
    },
    "scrolled": true,
    "slideshow": {
     "slide_type": ""
    },
    "tags": [],
    "vscode": {
     "languageId": "r"
    }
   },
   "outputs": [
    {
     "name": "stderr",
     "output_type": "stream",
     "text": [
      "Attaching SeuratObject\n",
      "\n",
      "Registered S3 method overwritten by 'SeuratDisk':\n",
      "  method            from  \n",
      "  as.sparse.H5Group Seurat\n",
      "\n",
      "Loading required package: MatrixGenerics\n",
      "\n",
      "Loading required package: matrixStats\n",
      "\n",
      "Warning message:\n",
      "“package ‘matrixStats’ was built under R version 4.2.3”\n",
      "\n",
      "Attaching package: ‘MatrixGenerics’\n",
      "\n",
      "\n",
      "The following objects are masked from ‘package:matrixStats’:\n",
      "\n",
      "    colAlls, colAnyNAs, colAnys, colAvgsPerRowSet, colCollapse,\n",
      "    colCounts, colCummaxs, colCummins, colCumprods, colCumsums,\n",
      "    colDiffs, colIQRDiffs, colIQRs, colLogSumExps, colMadDiffs,\n",
      "    colMads, colMaxs, colMeans2, colMedians, colMins, colOrderStats,\n",
      "    colProds, colQuantiles, colRanges, colRanks, colSdDiffs, colSds,\n",
      "    colSums2, colTabulates, colVarDiffs, colVars, colWeightedMads,\n",
      "    colWeightedMeans, colWeightedMedians, colWeightedSds,\n",
      "    colWeightedVars, rowAlls, rowAnyNAs, rowAnys, rowAvgsPerColSet,\n",
      "    rowCollapse, rowCounts, rowCummaxs, rowCummins, rowCumprods,\n",
      "    rowCumsums, rowDiffs, rowIQRDiffs, rowIQRs, rowLogSumExps,\n",
      "    rowMadDiffs, rowMads, rowMaxs, rowMeans2, rowMedians, rowMins,\n",
      "    rowOrderStats, rowProds, rowQuantiles, rowRanges, rowRanks,\n",
      "    rowSdDiffs, rowSds, rowSums2, rowTabulates, rowVarDiffs, rowVars,\n",
      "    rowWeightedMads, rowWeightedMeans, rowWeightedMedians,\n",
      "    rowWeightedSds, rowWeightedVars\n",
      "\n",
      "\n",
      "Loading required package: GenomicRanges\n",
      "\n",
      "Warning message:\n",
      "“package ‘GenomicRanges’ was built under R version 4.2.3”\n",
      "Loading required package: stats4\n",
      "\n",
      "Loading required package: BiocGenerics\n",
      "\n",
      "\n",
      "Attaching package: ‘BiocGenerics’\n",
      "\n",
      "\n",
      "The following objects are masked from ‘package:stats’:\n",
      "\n",
      "    IQR, mad, sd, var, xtabs\n",
      "\n",
      "\n",
      "The following objects are masked from ‘package:base’:\n",
      "\n",
      "    anyDuplicated, aperm, append, as.data.frame, basename, cbind,\n",
      "    colnames, dirname, do.call, duplicated, eval, evalq, Filter, Find,\n",
      "    get, grep, grepl, intersect, is.unsorted, lapply, Map, mapply,\n",
      "    match, mget, order, paste, pmax, pmax.int, pmin, pmin.int,\n",
      "    Position, rank, rbind, Reduce, rownames, sapply, setdiff, sort,\n",
      "    table, tapply, union, unique, unsplit, which.max, which.min\n",
      "\n",
      "\n",
      "Loading required package: S4Vectors\n",
      "\n",
      "Warning message:\n",
      "“package ‘S4Vectors’ was built under R version 4.2.3”\n",
      "\n",
      "Attaching package: ‘S4Vectors’\n",
      "\n",
      "\n",
      "The following objects are masked from ‘package:base’:\n",
      "\n",
      "    expand.grid, I, unname\n",
      "\n",
      "\n",
      "Loading required package: IRanges\n",
      "\n",
      "Warning message:\n",
      "“package ‘IRanges’ was built under R version 4.2.3”\n",
      "Loading required package: GenomeInfoDb\n",
      "\n",
      "Warning message:\n",
      "“package ‘GenomeInfoDb’ was built under R version 4.2.3”\n",
      "Loading required package: Biobase\n",
      "\n",
      "Warning message:\n",
      "“package ‘Biobase’ was built under R version 4.2.3”\n",
      "Welcome to Bioconductor\n",
      "\n",
      "    Vignettes contain introductory material; view with\n",
      "    'browseVignettes()'. To cite Bioconductor, see\n",
      "    'citation(\"Biobase\")', and for packages 'citation(\"pkgname\")'.\n",
      "\n",
      "\n",
      "\n",
      "Attaching package: ‘Biobase’\n",
      "\n",
      "\n",
      "The following object is masked from ‘package:MatrixGenerics’:\n",
      "\n",
      "    rowMedians\n",
      "\n",
      "\n",
      "The following objects are masked from ‘package:matrixStats’:\n",
      "\n",
      "    anyMissing, rowMedians\n",
      "\n",
      "\n",
      "\n",
      "Attaching package: ‘SummarizedExperiment’\n",
      "\n",
      "\n",
      "The following object is masked from ‘package:SeuratObject’:\n",
      "\n",
      "    Assays\n",
      "\n",
      "\n",
      "The following object is masked from ‘package:Seurat’:\n",
      "\n",
      "    Assays\n",
      "\n",
      "\n",
      "Warning message:\n",
      "“package ‘ggplot2’ was built under R version 4.2.3”\n",
      "Warning message:\n",
      "“package ‘RColorBrewer’ was built under R version 4.2.3”\n",
      "Loading required package: grid\n",
      "\n",
      "========================================\n",
      "ComplexHeatmap version 2.14.0\n",
      "Bioconductor page: http://bioconductor.org/packages/ComplexHeatmap/\n",
      "Github page: https://github.com/jokergoo/ComplexHeatmap\n",
      "Documentation: http://jokergoo.github.io/ComplexHeatmap-reference\n",
      "\n",
      "If you use it in published research, please cite either one:\n",
      "- Gu, Z. Complex Heatmap Visualization. iMeta 2022.\n",
      "- Gu, Z. Complex heatmaps reveal patterns and correlations in multidimensional \n",
      "    genomic data. Bioinformatics 2016.\n",
      "\n",
      "\n",
      "The new InteractiveComplexHeatmap package can directly export static \n",
      "complex heatmaps into an interactive Shiny app with zero effort. Have a try!\n",
      "\n",
      "This message can be suppressed by:\n",
      "  suppressPackageStartupMessages(library(ComplexHeatmap))\n",
      "========================================\n",
      "\n",
      "\n",
      "Warning message:\n",
      "“package ‘dplyr’ was built under R version 4.2.3”\n",
      "\n",
      "Attaching package: ‘dplyr’\n",
      "\n",
      "\n",
      "The following object is masked from ‘package:Biobase’:\n",
      "\n",
      "    combine\n",
      "\n",
      "\n",
      "The following objects are masked from ‘package:GenomicRanges’:\n",
      "\n",
      "    intersect, setdiff, union\n",
      "\n",
      "\n",
      "The following object is masked from ‘package:GenomeInfoDb’:\n",
      "\n",
      "    intersect\n",
      "\n",
      "\n",
      "The following objects are masked from ‘package:IRanges’:\n",
      "\n",
      "    collapse, desc, intersect, setdiff, slice, union\n",
      "\n",
      "\n",
      "The following objects are masked from ‘package:S4Vectors’:\n",
      "\n",
      "    first, intersect, rename, setdiff, setequal, union\n",
      "\n",
      "\n",
      "The following objects are masked from ‘package:BiocGenerics’:\n",
      "\n",
      "    combine, intersect, setdiff, union\n",
      "\n",
      "\n",
      "The following object is masked from ‘package:matrixStats’:\n",
      "\n",
      "    count\n",
      "\n",
      "\n",
      "The following objects are masked from ‘package:stats’:\n",
      "\n",
      "    filter, lag\n",
      "\n",
      "\n",
      "The following objects are masked from ‘package:base’:\n",
      "\n",
      "    intersect, setdiff, setequal, union\n",
      "\n",
      "\n",
      "Warning message:\n",
      "“package ‘purrr’ was built under R version 4.2.3”\n",
      "\n",
      "Attaching package: ‘purrr’\n",
      "\n",
      "\n",
      "The following object is masked from ‘package:GenomicRanges’:\n",
      "\n",
      "    reduce\n",
      "\n",
      "\n",
      "The following object is masked from ‘package:IRanges’:\n",
      "\n",
      "    reduce\n",
      "\n",
      "\n",
      "The following object is masked from ‘package:Signac’:\n",
      "\n",
      "    reduce\n",
      "\n",
      "\n",
      "\n",
      "Attaching package: ‘Matrix’\n",
      "\n",
      "\n",
      "The following object is masked from ‘package:S4Vectors’:\n",
      "\n",
      "    expand\n",
      "\n",
      "\n",
      "Warning message:\n",
      "“package ‘data.table’ was built under R version 4.2.3”\n",
      "\n",
      "Attaching package: ‘data.table’\n",
      "\n",
      "\n",
      "The following object is masked from ‘package:purrr’:\n",
      "\n",
      "    transpose\n",
      "\n",
      "\n",
      "The following objects are masked from ‘package:dplyr’:\n",
      "\n",
      "    between, first, last\n",
      "\n",
      "\n",
      "The following object is masked from ‘package:SummarizedExperiment’:\n",
      "\n",
      "    shift\n",
      "\n",
      "\n",
      "The following object is masked from ‘package:GenomicRanges’:\n",
      "\n",
      "    shift\n",
      "\n",
      "\n",
      "The following object is masked from ‘package:IRanges’:\n",
      "\n",
      "    shift\n",
      "\n",
      "\n",
      "The following objects are masked from ‘package:S4Vectors’:\n",
      "\n",
      "    first, second\n",
      "\n",
      "\n",
      "Warning message:\n",
      "“package ‘future’ was built under R version 4.2.3”\n",
      "Warning message:\n",
      "“package ‘pbapply’ was built under R version 4.2.3”\n"
     ]
    }
   ],
   "source": [
    "# omics\n",
    "library(Signac)\n",
    "library(Seurat)\n",
    "library(SeuratDisk)\n",
    "library(SummarizedExperiment)\n",
    "library(GenomeInfoDb)\n",
    "\n",
    "# plots\n",
    "library(ggplot2)\n",
    "library(RColorBrewer)\n",
    "library(ComplexHeatmap)\n",
    "\n",
    "# other\n",
    "library(dplyr)\n",
    "library(purrr)\n",
    "library(Matrix)\n",
    "library(data.table)\n",
    "library(future)\n",
    "library(pbapply)\n",
    "\n",
    "# eSpatial functions\n",
    "source('./R/functions.R')"
   ]
  },
  {
   "cell_type": "markdown",
   "id": "4b06d14c-74bb-4bf7-95ba-9af3b6d1a421",
   "metadata": {
    "editable": true,
    "slideshow": {
     "slide_type": ""
    },
    "tags": []
   },
   "source": [
    "# Load the data"
   ]
  },
  {
   "cell_type": "markdown",
   "id": "48ea36bf-fd35-4387-98e4-3cdb5857e186",
   "metadata": {},
   "source": [
    "The data downloaded from the Broad Institute Single Cell Portal under the following accession numbers SCP2176. The object created using the Seurat standard pipeline including atac assays, rna assays, cell coordinate information, cell type annotation"
   ]
  },
  {
   "cell_type": "code",
   "execution_count": 2,
   "id": "3283f7fe-beef-4765-854e-0070ac9ab2d0",
   "metadata": {
    "collapsed": true,
    "jupyter": {
     "outputs_hidden": true
    },
    "vscode": {
     "languageId": "r"
    }
   },
   "outputs": [
    {
     "name": "stderr",
     "output_type": "stream",
     "text": [
      "Warning message:\n",
      "“Keys should be one or more alphanumeric characters followed by an underscore, setting key from peaks to peaks_”\n"
     ]
    },
    {
     "data": {
      "text/plain": [
       "An object of class Seurat \n",
       "90002 features across 1992 samples within 2 assays \n",
       "Active assay: peaks (53401 features, 0 variable features)\n",
       " 1 other assay present: RNA\n",
       " 1 dimensional reduction calculated: cod"
      ]
     },
     "metadata": {},
     "output_type": "display_data"
    }
   ],
   "source": [
    "cre.mat <- readRDS(\"../Data/cre.mat.rds\")\n",
    "exp.mat <- readRDS(\"../Data/exp.mat.rds\")\n",
    "meta.data <- readRDS(\"../Data/meta.data.rds\")\n",
    "cells.coordinates <- readRDS(\"../Data/cells.coordinates.rds\")\n",
    "load(\"../Data/hg38_refSeq.RData\")\n",
    "chrom.assays <- CreateChromatinAssay(counts = cre.mat,\n",
    "                              assays = \"peaks\")\n",
    "obj <- CreateSeuratObject(chrom.assays,\n",
    "                         assay = \"peaks\",\n",
    "                         meta.data =meta.data)\n",
    "obj[[\"RNA\"]] <- CreateAssayObject(counts = exp.mat)\n",
    "obj@reductions[[\"cod\"]] <- cells.coordinates\n",
    "obj"
   ]
  },
  {
   "cell_type": "markdown",
   "id": "33c9be3d-5a0f-4345-88a3-1f93339113c3",
   "metadata": {},
   "source": [
    "# Calculate specificty scores"
   ]
  },
  {
   "cell_type": "markdown",
   "id": "e724519b-5851-4a5e-8883-c99df9cdc6b6",
   "metadata": {},
   "source": [
    "For each gene/cis-regulatory element in a specific spatial domain, eSpatial calculated its fold change of the average log-normalized counts in a specific spatial domain versus the rest spatial domains."
   ]
  },
  {
   "cell_type": "code",
   "execution_count": 3,
   "id": "b6c51e84-8b71-4e83-adf2-cbf4f079962a",
   "metadata": {
    "collapsed": true,
    "jupyter": {
     "outputs_hidden": true
    },
    "scrolled": true,
    "vscode": {
     "languageId": "r"
    }
   },
   "outputs": [
    {
     "name": "stderr",
     "output_type": "stream",
     "text": [
      "Warning message in `[<-.data.frame`(`*tmp*`, , clusters, value = structure(list(:\n",
      "“replacement element 1 has 53401 rows to replace 36601 rows”\n",
      "Warning message in `[<-.data.frame`(`*tmp*`, , clusters, value = structure(list(:\n",
      "“replacement element 2 has 53401 rows to replace 36601 rows”\n",
      "Warning message in `[<-.data.frame`(`*tmp*`, , clusters, value = structure(list(:\n",
      "“replacement element 3 has 53401 rows to replace 36601 rows”\n",
      "Warning message in `[<-.data.frame`(`*tmp*`, , clusters, value = structure(list(:\n",
      "“replacement element 4 has 53401 rows to replace 36601 rows”\n",
      "Performing TF-IDF normalization\n",
      "\n",
      "Warning message in RunTFIDF.default(object = GetAssayData(object = object, slot = \"counts\"), :\n",
      "“Some features contain 0 total counts”\n"
     ]
    },
    {
     "data": {
      "text/html": [
       "<table class=\"dataframe\">\n",
       "<caption>A data.frame: 6 × 4</caption>\n",
       "<thead>\n",
       "\t<tr><th></th><th scope=col>Tcell_2</th><th scope=col>Tcell_1</th><th scope=col>tumour_2</th><th scope=col>tumour_1</th></tr>\n",
       "\t<tr><th></th><th scope=col>&lt;dbl&gt;</th><th scope=col>&lt;dbl&gt;</th><th scope=col>&lt;dbl&gt;</th><th scope=col>&lt;dbl&gt;</th></tr>\n",
       "</thead>\n",
       "<tbody>\n",
       "\t<tr><th scope=row>MIR1302-2HG</th><td>-1.0291697</td><td>-1.948177</td><td> 0.8874455</td><td> 1.4041643</td></tr>\n",
       "\t<tr><th scope=row>FAM138A</th><td>-3.9293058</td><td>-3.914996</td><td>-3.6585436</td><td> 5.1957659</td></tr>\n",
       "\t<tr><th scope=row>OR4F5</th><td>-0.7324579</td><td>-7.148172</td><td> 1.4272465</td><td> 1.3385233</td></tr>\n",
       "\t<tr><th scope=row>AL627309.1</th><td>-1.5945879</td><td>-1.354781</td><td> 0.7376574</td><td> 1.5459349</td></tr>\n",
       "\t<tr><th scope=row>AL627309.3</th><td>-4.8811630</td><td>-4.866365</td><td> 7.2100267</td><td>-4.8556151</td></tr>\n",
       "\t<tr><th scope=row>AL627309.2</th><td>-6.0236310</td><td>-6.008547</td><td> 4.3546559</td><td>-0.4456889</td></tr>\n",
       "</tbody>\n",
       "</table>\n"
      ],
      "text/latex": [
       "A data.frame: 6 × 4\n",
       "\\begin{tabular}{r|llll}\n",
       "  & Tcell\\_2 & Tcell\\_1 & tumour\\_2 & tumour\\_1\\\\\n",
       "  & <dbl> & <dbl> & <dbl> & <dbl>\\\\\n",
       "\\hline\n",
       "\tMIR1302-2HG & -1.0291697 & -1.948177 &  0.8874455 &  1.4041643\\\\\n",
       "\tFAM138A & -3.9293058 & -3.914996 & -3.6585436 &  5.1957659\\\\\n",
       "\tOR4F5 & -0.7324579 & -7.148172 &  1.4272465 &  1.3385233\\\\\n",
       "\tAL627309.1 & -1.5945879 & -1.354781 &  0.7376574 &  1.5459349\\\\\n",
       "\tAL627309.3 & -4.8811630 & -4.866365 &  7.2100267 & -4.8556151\\\\\n",
       "\tAL627309.2 & -6.0236310 & -6.008547 &  4.3546559 & -0.4456889\\\\\n",
       "\\end{tabular}\n"
      ],
      "text/markdown": [
       "\n",
       "A data.frame: 6 × 4\n",
       "\n",
       "| <!--/--> | Tcell_2 &lt;dbl&gt; | Tcell_1 &lt;dbl&gt; | tumour_2 &lt;dbl&gt; | tumour_1 &lt;dbl&gt; |\n",
       "|---|---|---|---|---|\n",
       "| MIR1302-2HG | -1.0291697 | -1.948177 |  0.8874455 |  1.4041643 |\n",
       "| FAM138A | -3.9293058 | -3.914996 | -3.6585436 |  5.1957659 |\n",
       "| OR4F5 | -0.7324579 | -7.148172 |  1.4272465 |  1.3385233 |\n",
       "| AL627309.1 | -1.5945879 | -1.354781 |  0.7376574 |  1.5459349 |\n",
       "| AL627309.3 | -4.8811630 | -4.866365 |  7.2100267 | -4.8556151 |\n",
       "| AL627309.2 | -6.0236310 | -6.008547 |  4.3546559 | -0.4456889 |\n",
       "\n"
      ],
      "text/plain": [
       "            Tcell_2    Tcell_1   tumour_2   tumour_1  \n",
       "MIR1302-2HG -1.0291697 -1.948177  0.8874455  1.4041643\n",
       "FAM138A     -3.9293058 -3.914996 -3.6585436  5.1957659\n",
       "OR4F5       -0.7324579 -7.148172  1.4272465  1.3385233\n",
       "AL627309.1  -1.5945879 -1.354781  0.7376574  1.5459349\n",
       "AL627309.3  -4.8811630 -4.866365  7.2100267 -4.8556151\n",
       "AL627309.2  -6.0236310 -6.008547  4.3546559 -0.4456889"
      ]
     },
     "metadata": {},
     "output_type": "display_data"
    },
    {
     "data": {
      "text/html": [
       "<table class=\"dataframe\">\n",
       "<caption>A data.frame: 6 × 4</caption>\n",
       "<thead>\n",
       "\t<tr><th></th><th scope=col>Tcell_2</th><th scope=col>Tcell_1</th><th scope=col>tumour_2</th><th scope=col>tumour_1</th></tr>\n",
       "\t<tr><th></th><th scope=col>&lt;dbl&gt;</th><th scope=col>&lt;dbl&gt;</th><th scope=col>&lt;dbl&gt;</th><th scope=col>&lt;dbl&gt;</th></tr>\n",
       "</thead>\n",
       "<tbody>\n",
       "\t<tr><th scope=row>chr1-9775-10674</th><td>-1.0291697</td><td>-1.948177</td><td> 0.8874455</td><td> 1.4041643</td></tr>\n",
       "\t<tr><th scope=row>chr1-15652-16482</th><td>-3.9293058</td><td>-3.914996</td><td>-3.6585436</td><td> 5.1957659</td></tr>\n",
       "\t<tr><th scope=row>chr1-17031-17917</th><td>-0.7324579</td><td>-7.148172</td><td> 1.4272465</td><td> 1.3385233</td></tr>\n",
       "\t<tr><th scope=row>chr1-180621-181371</th><td>-1.5945879</td><td>-1.354781</td><td> 0.7376574</td><td> 1.5459349</td></tr>\n",
       "\t<tr><th scope=row>chr1-183913-184830</th><td>-4.8811630</td><td>-4.866365</td><td> 7.2100267</td><td>-4.8556151</td></tr>\n",
       "\t<tr><th scope=row>chr1-186586-187505</th><td>-6.0236310</td><td>-6.008547</td><td> 4.3546559</td><td>-0.4456889</td></tr>\n",
       "</tbody>\n",
       "</table>\n"
      ],
      "text/latex": [
       "A data.frame: 6 × 4\n",
       "\\begin{tabular}{r|llll}\n",
       "  & Tcell\\_2 & Tcell\\_1 & tumour\\_2 & tumour\\_1\\\\\n",
       "  & <dbl> & <dbl> & <dbl> & <dbl>\\\\\n",
       "\\hline\n",
       "\tchr1-9775-10674 & -1.0291697 & -1.948177 &  0.8874455 &  1.4041643\\\\\n",
       "\tchr1-15652-16482 & -3.9293058 & -3.914996 & -3.6585436 &  5.1957659\\\\\n",
       "\tchr1-17031-17917 & -0.7324579 & -7.148172 &  1.4272465 &  1.3385233\\\\\n",
       "\tchr1-180621-181371 & -1.5945879 & -1.354781 &  0.7376574 &  1.5459349\\\\\n",
       "\tchr1-183913-184830 & -4.8811630 & -4.866365 &  7.2100267 & -4.8556151\\\\\n",
       "\tchr1-186586-187505 & -6.0236310 & -6.008547 &  4.3546559 & -0.4456889\\\\\n",
       "\\end{tabular}\n"
      ],
      "text/markdown": [
       "\n",
       "A data.frame: 6 × 4\n",
       "\n",
       "| <!--/--> | Tcell_2 &lt;dbl&gt; | Tcell_1 &lt;dbl&gt; | tumour_2 &lt;dbl&gt; | tumour_1 &lt;dbl&gt; |\n",
       "|---|---|---|---|---|\n",
       "| chr1-9775-10674 | -1.0291697 | -1.948177 |  0.8874455 |  1.4041643 |\n",
       "| chr1-15652-16482 | -3.9293058 | -3.914996 | -3.6585436 |  5.1957659 |\n",
       "| chr1-17031-17917 | -0.7324579 | -7.148172 |  1.4272465 |  1.3385233 |\n",
       "| chr1-180621-181371 | -1.5945879 | -1.354781 |  0.7376574 |  1.5459349 |\n",
       "| chr1-183913-184830 | -4.8811630 | -4.866365 |  7.2100267 | -4.8556151 |\n",
       "| chr1-186586-187505 | -6.0236310 | -6.008547 |  4.3546559 | -0.4456889 |\n",
       "\n"
      ],
      "text/plain": [
       "                   Tcell_2    Tcell_1   tumour_2   tumour_1  \n",
       "chr1-9775-10674    -1.0291697 -1.948177  0.8874455  1.4041643\n",
       "chr1-15652-16482   -3.9293058 -3.914996 -3.6585436  5.1957659\n",
       "chr1-17031-17917   -0.7324579 -7.148172  1.4272465  1.3385233\n",
       "chr1-180621-181371 -1.5945879 -1.354781  0.7376574  1.5459349\n",
       "chr1-183913-184830 -4.8811630 -4.866365  7.2100267 -4.8556151\n",
       "chr1-186586-187505 -6.0236310 -6.008547  4.3546559 -0.4456889"
      ]
     },
     "metadata": {},
     "output_type": "display_data"
    }
   ],
   "source": [
    "clusters <- as.character(unique(obj$finalType))\n",
    "Idents(obj) <- obj$finalType\n",
    "exp.avg <- SpecificityScore(object = obj,\n",
    "                            assays = \"RNA\",\n",
    "                            clusters = clusters)\n",
    "\n",
    "peaks.avg <- SpecificityScore(object = obj,\n",
    "                              assays = \"peaks\",\n",
    "                              clusters = clusters)\n",
    "head(exp.avg)\n",
    "head(peaks.avg)                            "
   ]
  },
  {
   "cell_type": "markdown",
   "id": "b64be5f4-8452-48b1-a10f-121df56bd180",
   "metadata": {},
   "source": [
    "# Define enhancer clusters of genes"
   ]
  },
  {
   "cell_type": "markdown",
   "id": "065fcc4a-6fe6-4c0e-af99-2ef4c8c63e9b",
   "metadata": {},
   "source": [
    "eSpatial defines enhancer clusters of genes based on the correlation between enhancer chromatin accessibility and gene expression across spots/spatial neighbor networks.\n",
    "\n",
    "THIS PROCESS NEED AROUND 1 HOUR!!!"
   ]
  },
  {
   "cell_type": "code",
   "execution_count": 4,
   "id": "09bc02d8-b158-4908-8b5b-28c603f88b21",
   "metadata": {
    "collapsed": true,
    "jupyter": {
     "outputs_hidden": true
    },
    "vscode": {
     "languageId": "r"
    }
   },
   "outputs": [
    {
     "name": "stderr",
     "output_type": "stream",
     "text": [
      "Assuming paired scATAC/scRNA-seq data ..\n",
      "\n",
      "Peaks with 0 accessibility across cells exist ..\n",
      "\n",
      "Removing these peaks prior to running correlations ..\n",
      "\n",
      "Important: peak indices in returned gene-peak maps are relative to original input SE\n",
      "\n",
      "Genes with 0 expression across cells exist ..\n",
      "\n",
      "Removing these genes prior to running correlations ..\n",
      "\n"
     ]
    },
    {
     "name": "stdout",
     "output_type": "stream",
     "text": [
      "Number of peaks in ATAC data: 52996 \n",
      "Number of genes in RNA data: 27588 \n",
      "\n",
      "Taking peak summits from peak windows ..\n",
      "Finding overlapping promoter-gene pairs ..\n",
      "Found  114356 total promoter-peak pairs for given TSS window ..\n",
      "Number of peak summits that overlap any gene promoter window:  21592 \n",
      "Number of gene promoter windows that overlap any peak summit:  101266 \n",
      "\n",
      "\n",
      "Num genes overlapping TSS annotation and RNA matrix being considered:  27245 \n",
      "Finding overlapping peak-gene pairs ..\n",
      "Found  82703 total gene-peak pairs for given TSS window ..\n",
      "Number of peak summits that overlap any gene TSS window:  25632 \n",
      "Number of gene TSS windows that overlap any peak summit:  22676 \n",
      "\n"
     ]
    },
    {
     "name": "stderr",
     "output_type": "stream",
     "text": [
      "Loading required package: foreach\n",
      "\n",
      "Warning message:\n",
      "“package ‘foreach’ was built under R version 4.2.3”\n",
      "\n",
      "Attaching package: ‘foreach’\n",
      "\n",
      "\n",
      "The following objects are masked from ‘package:purrr’:\n",
      "\n",
      "    accumulate, when\n",
      "\n",
      "\n",
      "Loading required package: iterators\n",
      "\n",
      "Warning message:\n",
      "“package ‘iterators’ was built under R version 4.2.3”\n",
      "Loading required package: parallel\n",
      "\n"
     ]
    }
   ],
   "source": [
    "exp.mat <- obj@assays$RNA@data\n",
    "cre.mat <- obj@assays$peaks@data\n",
    "GPTab <- GPCor(cre.mat = cre.mat,\n",
    "              exp.mat = exp.mat,\n",
    "              genome = \"hg38\")"
   ]
  },
  {
   "cell_type": "code",
   "execution_count": 5,
   "id": "261425d7-7b54-46ad-bfe9-e3284c8dfe76",
   "metadata": {
    "vscode": {
     "languageId": "r"
    }
   },
   "outputs": [
    {
     "name": "stdout",
     "output_type": "stream",
     "text": [
      "Keeping max correlation for multi-mapping peaks ..\n"
     ]
    }
   ],
   "source": [
    "GPTabFilt <- subset(GPTab, !is.na(estimate) & estimate > 0 & class == \"corr\")\n",
    "# Remove multi-mapping peaks (force 1-1 mapping)\n",
    "cat(\"Keeping max correlation for multi-mapping peaks ..\\n\")\n",
    "GPTabFilt <- GPTabFilt %>% group_by(Peak) %>% filter(estimate==max(estimate))\n"
   ]
  },
  {
   "cell_type": "markdown",
   "id": "c545cd25-6d51-4e85-9b78-76e5fc1ae6f0",
   "metadata": {},
   "source": [
    "# Depict spatial patterns of enhancers for genes expressed in multiple spatial domains"
   ]
  },
  {
   "cell_type": "markdown",
   "id": "db82f5c6-2f87-48e7-bc77-b9a8cec6a518",
   "metadata": {},
   "source": [
    "eSpatial first identified gene expression modules using k-means clustering. This clustering grouped genes showing similar expression patterns across spatial domains."
   ]
  },
  {
   "cell_type": "code",
   "execution_count": 6,
   "id": "d0fab473-a027-44d3-9a56-45caf9736e6b",
   "metadata": {
    "vscode": {
     "languageId": "r"
    }
   },
   "outputs": [],
   "source": [
    "exp.mat <- as.matrix(exp.avg)\n",
    "genes <- intersect(rownames(exp.mat), GPTabFilt$Gene)\n",
    "exp.mat <- exp.mat[genes,]\n",
    "clusters <- c(\"tumour_1\",\"tumour_2\" ,\n",
    "             \"Tcell_1\",\"Tcell_2\")\n",
    "gene.module <- geneModules(exp.mat = exp.mat,\n",
    "                         k = 6,\n",
    "                         clusters = clusters)"
   ]
  },
  {
   "cell_type": "markdown",
   "id": "dabbb7df-f6b9-4e88-a19e-8a72a819d9cd",
   "metadata": {},
   "source": [
    "Visualize the gene modules as heatmap"
   ]
  },
  {
   "cell_type": "code",
   "execution_count": 7,
   "id": "8e772f8a-a648-4e15-9631-676512d6e4ee",
   "metadata": {
    "vscode": {
     "languageId": "r"
    }
   },
   "outputs": [
    {
     "data": {
      "image/png": "[encoded data removed]",
      "text/plain": [
       "plot without title"
      ]
     },
     "metadata": {
      "image/png": {
       "height": 420,
       "width": 420
      }
     },
     "output_type": "display_data"
    }
   ],
   "source": [
    "matrix <- exp.mat[gene.module$genes, clusters]\n",
    "plotHeatmap(matrix = matrix,\n",
    "            row_split = gene.module$kmeans)"
   ]
  },
  {
   "cell_type": "markdown",
   "id": "2dac1e3e-805b-4768-9922-8a9fb554fccc",
   "metadata": {},
   "source": [
    "For each gene module, eSpatial ordered their enhancers based on the specificity scores and visualize."
   ]
  },
  {
   "cell_type": "code",
   "execution_count": 8,
   "id": "b1ec5317-eefd-49ab-ba08-9f1ead089259",
   "metadata": {
    "vscode": {
     "languageId": "r"
    }
   },
   "outputs": [
    {
     "data": {
      "text/html": [
       "<style>\n",
       ".dl-inline {width: auto; margin:0; padding: 0}\n",
       ".dl-inline>dt, .dl-inline>dd {float: none; width: auto; display: inline-block}\n",
       ".dl-inline>dt::after {content: \":\\0020\"; padding-right: .5ex}\n",
       ".dl-inline>dt:not(:first-of-type) {padding-left: .5ex}\n",
       "</style><dl class=dl-inline><dt>Tcell_2</dt><dd>-4.24873854721714</dd><dt>Tcell_1</dt><dd>-4.49158363363827</dd><dt>tumour_2</dt><dd>0.259416632382608</dd><dt>tumour_1</dt><dd>1.63349124737308</dd></dl>\n"
      ],
      "text/latex": [
       "\\begin{description*}\n",
       "\\item[Tcell\\textbackslash{}\\_2] -4.24873854721714\n",
       "\\item[Tcell\\textbackslash{}\\_1] -4.49158363363827\n",
       "\\item[tumour\\textbackslash{}\\_2] 0.259416632382608\n",
       "\\item[tumour\\textbackslash{}\\_1] 1.63349124737308\n",
       "\\end{description*}\n"
      ],
      "text/markdown": [
       "Tcell_2\n",
       ":   -4.24873854721714Tcell_1\n",
       ":   -4.49158363363827tumour_2\n",
       ":   0.259416632382608tumour_1\n",
       ":   1.63349124737308\n",
       "\n"
      ],
      "text/plain": [
       "   Tcell_2    Tcell_1   tumour_2   tumour_1 \n",
       "-4.2487385 -4.4915836  0.2594166  1.6334912 "
      ]
     },
     "metadata": {},
     "output_type": "display_data"
    },
    {
     "data": {
      "text/html": [
       "<style>\n",
       ".dl-inline {width: auto; margin:0; padding: 0}\n",
       ".dl-inline>dt, .dl-inline>dd {float: none; width: auto; display: inline-block}\n",
       ".dl-inline>dt::after {content: \":\\0020\"; padding-right: .5ex}\n",
       ".dl-inline>dt:not(:first-of-type) {padding-left: .5ex}\n",
       "</style><dl class=dl-inline><dt>Tcell_2</dt><dd>-0.770677377067993</dd><dt>Tcell_1</dt><dd>-0.794080897160198</dd><dt>tumour_2</dt><dd>0.0929561188144556</dd><dt>tumour_1</dt><dd>0.530448942881656</dd></dl>\n"
      ],
      "text/latex": [
       "\\begin{description*}\n",
       "\\item[Tcell\\textbackslash{}\\_2] -0.770677377067993\n",
       "\\item[Tcell\\textbackslash{}\\_1] -0.794080897160198\n",
       "\\item[tumour\\textbackslash{}\\_2] 0.0929561188144556\n",
       "\\item[tumour\\textbackslash{}\\_1] 0.530448942881656\n",
       "\\end{description*}\n"
      ],
      "text/markdown": [
       "Tcell_2\n",
       ":   -0.770677377067993Tcell_1\n",
       ":   -0.794080897160198tumour_2\n",
       ":   0.0929561188144556tumour_1\n",
       ":   0.530448942881656\n",
       "\n"
      ],
      "text/plain": [
       "    Tcell_2     Tcell_1    tumour_2    tumour_1 \n",
       "-0.77067738 -0.79408090  0.09295612  0.53044894 "
      ]
     },
     "metadata": {},
     "output_type": "display_data"
    },
    {
     "data": {
      "image/png": "[encoded data removed]",
      "text/plain": [
       "plot without title"
      ]
     },
     "metadata": {
      "image/png": {
       "height": 420,
       "width": 420
      }
     },
     "output_type": "display_data"
    }
   ],
   "source": [
    "cre.mat <- as.matrix(peaks.avg)\n",
    "colMeans(cre.mat)\n",
    "cre.mat <- scale(cre.mat,center = F)\n",
    "colMeans(cre.mat)\n",
    "enh.order <- enhancerOrder(exp.mat = exp.mat,\n",
    "                          cre.mat = cre.mat,\n",
    "                          genemodule = gene.module,\n",
    "                          gppairs = GPTabFilt,\n",
    "                          clusters = clusters,\n",
    "                          cutoff = 0.02)\n",
    "matrix <- cre.mat[enh.order$peak, clusters]\n",
    "plotHeatmap(matrix = matrix,\n",
    "            row_split = enh.order$genemodule,\n",
    "            col = c(\"#3361A5\",\"#248AF3\",\"#14B3FF\",\"#88CEEF\",\"#C1D5DC\",\"#EAD397\",\"#FDB31A\",\"#E42A2A\",\"#A31D1D\"))            "
   ]
  },
  {
   "cell_type": "markdown",
   "id": "ee3f0e75-5b5e-4030-bbc7-ba31427c2587",
   "metadata": {},
   "source": [
    "For each gene module, eSpatial defined the spatial patterns of those enhancers regulating the genes within that module."
   ]
  },
  {
   "cell_type": "code",
   "execution_count": 9,
   "id": "79442f12-a4cb-482a-8af9-bd5e7915f29c",
   "metadata": {
    "vscode": {
     "languageId": "r"
    }
   },
   "outputs": [],
   "source": [
    "enh.pattern <- enhancerPattern(exp.mat = exp.mat,\n",
    "                              cre.mat = cre.mat,\n",
    "                              genemodule = gene.module,\n",
    "                              gppairs = GPTabFilt,\n",
    "                              clusters = clusters,\n",
    "                              cutoff.cluster = 0.02,\n",
    "                              cutoff.bin = 0)\n",
    "\n"
   ]
  },
  {
   "cell_type": "markdown",
   "id": "f69ab3ca-3b7e-4109-a2ec-cebd9f4d2d15",
   "metadata": {},
   "source": [
    "# Decode the spatially divergent combinations of enhancers"
   ]
  },
  {
   "cell_type": "markdown",
   "id": "5eb4f7f0-44cb-4394-b836-e26e723c73d9",
   "metadata": {},
   "source": [
    "eSpatial quantified the diversity of spatial patterns of enhancers within a specific enhancer cluster\n",
    "\n",
    "THIS PROCESS NEED AROUND 15 MINUTES!"
   ]
  },
  {
   "cell_type": "code",
   "execution_count": 10,
   "id": "c9258e4a-4623-43f5-8968-2de5abe10c60",
   "metadata": {
    "vscode": {
     "languageId": "r"
    }
   },
   "outputs": [
    {
     "data": {
      "text/html": [
       "<table class=\"dataframe\">\n",
       "<caption>A data.frame: 6 × 4</caption>\n",
       "<thead>\n",
       "\t<tr><th></th><th scope=col>Gene</th><th scope=col>enh.Num</th><th scope=col>exp.Domain</th><th scope=col>enh.Pattern.Num</th></tr>\n",
       "\t<tr><th></th><th scope=col>&lt;chr&gt;</th><th scope=col>&lt;int&gt;</th><th scope=col>&lt;int&gt;</th><th scope=col>&lt;int&gt;</th></tr>\n",
       "</thead>\n",
       "<tbody>\n",
       "\t<tr><th scope=row>1</th><td>ZNF595    </td><td>1</td><td>2</td><td>1</td></tr>\n",
       "\t<tr><th scope=row>2</th><td>SNRNP25   </td><td>1</td><td>2</td><td>1</td></tr>\n",
       "\t<tr><th scope=row>3</th><td>ZNF718    </td><td>2</td><td>2</td><td>1</td></tr>\n",
       "\t<tr><th scope=row>4</th><td>ZMYND11   </td><td>2</td><td>2</td><td>1</td></tr>\n",
       "\t<tr><th scope=row>5</th><td>AC093627.4</td><td>1</td><td>2</td><td>1</td></tr>\n",
       "\t<tr><th scope=row>6</th><td>USP14     </td><td>1</td><td>2</td><td>1</td></tr>\n",
       "</tbody>\n",
       "</table>\n"
      ],
      "text/latex": [
       "A data.frame: 6 × 4\n",
       "\\begin{tabular}{r|llll}\n",
       "  & Gene & enh.Num & exp.Domain & enh.Pattern.Num\\\\\n",
       "  & <chr> & <int> & <int> & <int>\\\\\n",
       "\\hline\n",
       "\t1 & ZNF595     & 1 & 2 & 1\\\\\n",
       "\t2 & SNRNP25    & 1 & 2 & 1\\\\\n",
       "\t3 & ZNF718     & 2 & 2 & 1\\\\\n",
       "\t4 & ZMYND11    & 2 & 2 & 1\\\\\n",
       "\t5 & AC093627.4 & 1 & 2 & 1\\\\\n",
       "\t6 & USP14      & 1 & 2 & 1\\\\\n",
       "\\end{tabular}\n"
      ],
      "text/markdown": [
       "\n",
       "A data.frame: 6 × 4\n",
       "\n",
       "| <!--/--> | Gene &lt;chr&gt; | enh.Num &lt;int&gt; | exp.Domain &lt;int&gt; | enh.Pattern.Num &lt;int&gt; |\n",
       "|---|---|---|---|---|\n",
       "| 1 | ZNF595     | 1 | 2 | 1 |\n",
       "| 2 | SNRNP25    | 1 | 2 | 1 |\n",
       "| 3 | ZNF718     | 2 | 2 | 1 |\n",
       "| 4 | ZMYND11    | 2 | 2 | 1 |\n",
       "| 5 | AC093627.4 | 1 | 2 | 1 |\n",
       "| 6 | USP14      | 1 | 2 | 1 |\n",
       "\n"
      ],
      "text/plain": [
       "  Gene       enh.Num exp.Domain enh.Pattern.Num\n",
       "1 ZNF595     1       2          1              \n",
       "2 SNRNP25    1       2          1              \n",
       "3 ZNF718     2       2          1              \n",
       "4 ZMYND11    2       2          1              \n",
       "5 AC093627.4 1       2          1              \n",
       "6 USP14      1       2          1              "
      ]
     },
     "metadata": {},
     "output_type": "display_data"
    }
   ],
   "source": [
    "enh.combination <- enhancerCombination(enh.pattern = enh.pattern,\n",
    "                                      gppairs = GPTabFilt)\n",
    "head(enh.combination)"
   ]
  }
 ],
 "metadata": {
  "kernelspec": {
   "display_name": "STAGATE",
   "language": "python",
   "name": "stagate"
  },
  "language_info": {
   "codemirror_mode": {
    "name": "ipython",
    "version": 3
   },
   "file_extension": ".py",
   "mimetype": "text/x-python",
   "name": "python",
   "nbconvert_exporter": "python",
   "pygments_lexer": "ipython3",
   "version": "3.7.16"
  }
 },
 "nbformat": 4,
 "nbformat_minor": 5
}
