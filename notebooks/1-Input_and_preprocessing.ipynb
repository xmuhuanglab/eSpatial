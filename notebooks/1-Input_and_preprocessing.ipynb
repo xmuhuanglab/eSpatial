{
 "cells": [
  {
   "cell_type": "markdown",
   "id": "aa7ffcc5-a7f7-445f-908d-087ea9510edc",
   "metadata": {},
   "source": [
    "# Library packages and source functions"
   ]
  },
  {
   "cell_type": "code",
   "execution_count": 1,
   "id": "1af38982-ccd2-4aa9-9f86-4437a59bdc89",
   "metadata": {
    "collapsed": true,
    "editable": true,
    "jupyter": {
     "outputs_hidden": true
    },
    "slideshow": {
     "slide_type": ""
    },
    "tags": []
   },
   "outputs": [
    {
     "name": "stderr",
     "output_type": "stream",
     "text": [
      "Attaching SeuratObject\n",
      "\n",
      "Registered S3 method overwritten by 'SeuratDisk':\n",
      "  method            from  \n",
      "  as.sparse.H5Group Seurat\n",
      "\n",
      "Loading required package: MatrixGenerics\n",
      "\n",
      "Loading required package: matrixStats\n",
      "\n",
      "Warning message:\n",
      "“package ‘matrixStats’ was built under R version 4.2.3”\n",
      "\n",
      "Attaching package: ‘MatrixGenerics’\n",
      "\n",
      "\n",
      "The following objects are masked from ‘package:matrixStats’:\n",
      "\n",
      "    colAlls, colAnyNAs, colAnys, colAvgsPerRowSet, colCollapse,\n",
      "    colCounts, colCummaxs, colCummins, colCumprods, colCumsums,\n",
      "    colDiffs, colIQRDiffs, colIQRs, colLogSumExps, colMadDiffs,\n",
      "    colMads, colMaxs, colMeans2, colMedians, colMins, colOrderStats,\n",
      "    colProds, colQuantiles, colRanges, colRanks, colSdDiffs, colSds,\n",
      "    colSums2, colTabulates, colVarDiffs, colVars, colWeightedMads,\n",
      "    colWeightedMeans, colWeightedMedians, colWeightedSds,\n",
      "    colWeightedVars, rowAlls, rowAnyNAs, rowAnys, rowAvgsPerColSet,\n",
      "    rowCollapse, rowCounts, rowCummaxs, rowCummins, rowCumprods,\n",
      "    rowCumsums, rowDiffs, rowIQRDiffs, rowIQRs, rowLogSumExps,\n",
      "    rowMadDiffs, rowMads, rowMaxs, rowMeans2, rowMedians, rowMins,\n",
      "    rowOrderStats, rowProds, rowQuantiles, rowRanges, rowRanks,\n",
      "    rowSdDiffs, rowSds, rowSums2, rowTabulates, rowVarDiffs, rowVars,\n",
      "    rowWeightedMads, rowWeightedMeans, rowWeightedMedians,\n",
      "    rowWeightedSds, rowWeightedVars\n",
      "\n",
      "\n",
      "Loading required package: GenomicRanges\n",
      "\n",
      "Warning message:\n",
      "“package ‘GenomicRanges’ was built under R version 4.2.3”\n",
      "Loading required package: stats4\n",
      "\n",
      "Loading required package: BiocGenerics\n",
      "\n",
      "\n",
      "Attaching package: ‘BiocGenerics’\n",
      "\n",
      "\n",
      "The following objects are masked from ‘package:stats’:\n",
      "\n",
      "    IQR, mad, sd, var, xtabs\n",
      "\n",
      "\n",
      "The following objects are masked from ‘package:base’:\n",
      "\n",
      "    anyDuplicated, aperm, append, as.data.frame, basename, cbind,\n",
      "    colnames, dirname, do.call, duplicated, eval, evalq, Filter, Find,\n",
      "    get, grep, grepl, intersect, is.unsorted, lapply, Map, mapply,\n",
      "    match, mget, order, paste, pmax, pmax.int, pmin, pmin.int,\n",
      "    Position, rank, rbind, Reduce, rownames, sapply, setdiff, sort,\n",
      "    table, tapply, union, unique, unsplit, which.max, which.min\n",
      "\n",
      "\n",
      "Loading required package: S4Vectors\n",
      "\n",
      "Warning message:\n",
      "“package ‘S4Vectors’ was built under R version 4.2.3”\n",
      "\n",
      "Attaching package: ‘S4Vectors’\n",
      "\n",
      "\n",
      "The following objects are masked from ‘package:base’:\n",
      "\n",
      "    expand.grid, I, unname\n",
      "\n",
      "\n",
      "Loading required package: IRanges\n",
      "\n",
      "Warning message:\n",
      "“package ‘IRanges’ was built under R version 4.2.3”\n",
      "Loading required package: GenomeInfoDb\n",
      "\n",
      "Warning message:\n",
      "“package ‘GenomeInfoDb’ was built under R version 4.2.3”\n",
      "Loading required package: Biobase\n",
      "\n",
      "Warning message:\n",
      "“package ‘Biobase’ was built under R version 4.2.3”\n",
      "Welcome to Bioconductor\n",
      "\n",
      "    Vignettes contain introductory material; view with\n",
      "    'browseVignettes()'. To cite Bioconductor, see\n",
      "    'citation(\"Biobase\")', and for packages 'citation(\"pkgname\")'.\n",
      "\n",
      "\n",
      "\n",
      "Attaching package: ‘Biobase’\n",
      "\n",
      "\n",
      "The following object is masked from ‘package:MatrixGenerics’:\n",
      "\n",
      "    rowMedians\n",
      "\n",
      "\n",
      "The following objects are masked from ‘package:matrixStats’:\n",
      "\n",
      "    anyMissing, rowMedians\n",
      "\n",
      "\n",
      "\n",
      "Attaching package: ‘SummarizedExperiment’\n",
      "\n",
      "\n",
      "The following object is masked from ‘package:SeuratObject’:\n",
      "\n",
      "    Assays\n",
      "\n",
      "\n",
      "The following object is masked from ‘package:Seurat’:\n",
      "\n",
      "    Assays\n",
      "\n",
      "\n",
      "Warning message:\n",
      "“package ‘ggplot2’ was built under R version 4.2.3”\n",
      "Warning message:\n",
      "“package ‘RColorBrewer’ was built under R version 4.2.3”\n",
      "Loading required package: grid\n",
      "\n",
      "========================================\n",
      "ComplexHeatmap version 2.14.0\n",
      "Bioconductor page: http://bioconductor.org/packages/ComplexHeatmap/\n",
      "Github page: https://github.com/jokergoo/ComplexHeatmap\n",
      "Documentation: http://jokergoo.github.io/ComplexHeatmap-reference\n",
      "\n",
      "If you use it in published research, please cite either one:\n",
      "- Gu, Z. Complex Heatmap Visualization. iMeta 2022.\n",
      "- Gu, Z. Complex heatmaps reveal patterns and correlations in multidimensional \n",
      "    genomic data. Bioinformatics 2016.\n",
      "\n",
      "\n",
      "The new InteractiveComplexHeatmap package can directly export static \n",
      "complex heatmaps into an interactive Shiny app with zero effort. Have a try!\n",
      "\n",
      "This message can be suppressed by:\n",
      "  suppressPackageStartupMessages(library(ComplexHeatmap))\n",
      "========================================\n",
      "\n",
      "\n",
      "Warning message:\n",
      "“package ‘dplyr’ was built under R version 4.2.3”\n",
      "\n",
      "Attaching package: ‘dplyr’\n",
      "\n",
      "\n",
      "The following object is masked from ‘package:Biobase’:\n",
      "\n",
      "    combine\n",
      "\n",
      "\n",
      "The following objects are masked from ‘package:GenomicRanges’:\n",
      "\n",
      "    intersect, setdiff, union\n",
      "\n",
      "\n",
      "The following object is masked from ‘package:GenomeInfoDb’:\n",
      "\n",
      "    intersect\n",
      "\n",
      "\n",
      "The following objects are masked from ‘package:IRanges’:\n",
      "\n",
      "    collapse, desc, intersect, setdiff, slice, union\n",
      "\n",
      "\n",
      "The following objects are masked from ‘package:S4Vectors’:\n",
      "\n",
      "    first, intersect, rename, setdiff, setequal, union\n",
      "\n",
      "\n",
      "The following objects are masked from ‘package:BiocGenerics’:\n",
      "\n",
      "    combine, intersect, setdiff, union\n",
      "\n",
      "\n",
      "The following object is masked from ‘package:matrixStats’:\n",
      "\n",
      "    count\n",
      "\n",
      "\n",
      "The following objects are masked from ‘package:stats’:\n",
      "\n",
      "    filter, lag\n",
      "\n",
      "\n",
      "The following objects are masked from ‘package:base’:\n",
      "\n",
      "    intersect, setdiff, setequal, union\n",
      "\n",
      "\n",
      "Warning message:\n",
      "“package ‘purrr’ was built under R version 4.2.3”\n",
      "\n",
      "Attaching package: ‘purrr’\n",
      "\n",
      "\n",
      "The following object is masked from ‘package:GenomicRanges’:\n",
      "\n",
      "    reduce\n",
      "\n",
      "\n",
      "The following object is masked from ‘package:IRanges’:\n",
      "\n",
      "    reduce\n",
      "\n",
      "\n",
      "The following object is masked from ‘package:Signac’:\n",
      "\n",
      "    reduce\n",
      "\n",
      "\n",
      "\n",
      "Attaching package: ‘Matrix’\n",
      "\n",
      "\n",
      "The following object is masked from ‘package:S4Vectors’:\n",
      "\n",
      "    expand\n",
      "\n",
      "\n",
      "Warning message:\n",
      "“package ‘data.table’ was built under R version 4.2.3”\n",
      "\n",
      "Attaching package: ‘data.table’\n",
      "\n",
      "\n",
      "The following object is masked from ‘package:purrr’:\n",
      "\n",
      "    transpose\n",
      "\n",
      "\n",
      "The following objects are masked from ‘package:dplyr’:\n",
      "\n",
      "    between, first, last\n",
      "\n",
      "\n",
      "The following object is masked from ‘package:SummarizedExperiment’:\n",
      "\n",
      "    shift\n",
      "\n",
      "\n",
      "The following object is masked from ‘package:GenomicRanges’:\n",
      "\n",
      "    shift\n",
      "\n",
      "\n",
      "The following object is masked from ‘package:IRanges’:\n",
      "\n",
      "    shift\n",
      "\n",
      "\n",
      "The following objects are masked from ‘package:S4Vectors’:\n",
      "\n",
      "    first, second\n",
      "\n",
      "\n",
      "Warning message:\n",
      "“package ‘future’ was built under R version 4.2.3”\n",
      "Warning message:\n",
      "“package ‘pbapply’ was built under R version 4.2.3”\n"
     ]
    }
   ],
   "source": [
    "# omics\n",
    "library(Signac)\n",
    "library(Seurat)\n",
    "library(SeuratDisk)\n",
    "library(SummarizedExperiment)\n",
    "library(GenomeInfoDb)\n",
    "\n",
    "# plots\n",
    "library(ggplot2)\n",
    "library(RColorBrewer)\n",
    "library(ComplexHeatmap)\n",
    "\n",
    "# other\n",
    "library(dplyr)\n",
    "library(purrr)\n",
    "library(Matrix)\n",
    "library(data.table)\n",
    "library(future)\n",
    "library(pbapply)\n",
    "\n",
    "# eSpatial functions\n",
    "source('../R/functions.R')"
   ]
  },
  {
   "cell_type": "markdown",
   "id": "ebca7e62-1cb9-4783-b8f6-4bc26ea40785",
   "metadata": {},
   "source": [
    "# Input for eSpatial"
   ]
  },
  {
   "cell_type": "markdown",
   "id": "645e1213-f13a-43b6-9bf9-149521928674",
   "metadata": {},
   "source": [
    "The input matrixes of eSpatial contains spatial count matrix and spot coordinates matrix. We downloaded spatial chromatin accessibility profiling data from public literatures and generated spatial counts matrix for each dataset independently."
   ]
  },
  {
   "cell_type": "code",
   "execution_count": 2,
   "id": "f1159dc8-4bf5-4b2c-9980-362debaf2205",
   "metadata": {},
   "outputs": [],
   "source": [
    "load(\"../Data/gr_embryos.Rdata\") #gr\n",
    "load(\"../Data/EnsDb.Mmusculus.v79.Rdata\") #annotations"
   ]
  },
  {
   "cell_type": "code",
   "execution_count": 3,
   "id": "75329a40-68ea-4fa2-b897-e54cb5a00999",
   "metadata": {},
   "outputs": [],
   "source": [
    "fragment <- \"../Data/GSM6043255_ME11_20um_fragments.tsv.gz\"\n",
    "imagefile <-  \"../Data/ME11_20um_spatial/\""
   ]
  },
  {
   "cell_type": "code",
   "execution_count": 4,
   "id": "b28b9f37-8fc2-4abe-bdb6-967a68eb5837",
   "metadata": {
    "collapsed": true,
    "jupyter": {
     "outputs_hidden": true
    },
    "scrolled": true
   },
   "outputs": [
    {
     "name": "stderr",
     "output_type": "stream",
     "text": [
      "Computing hash\n",
      "\n",
      "Extracting reads overlapping genomic regions\n",
      "\n",
      "Warning message:\n",
      "“Keys should be one or more alphanumeric characters followed by an underscore, setting key from peaks to peaks_”\n"
     ]
    }
   ],
   "source": [
    "sample = 'E11'\n",
    "atac.frags = Signac::CreateFragmentObject(path = fragment)\n",
    "counts = Signac::FeatureMatrix(fragments = atac.frags, features = gr)\n",
    "atac.assay <- Signac::CreateChromatinAssay(\n",
    "    counts = counts, \n",
    "    min.features = 0, \n",
    "    fragments = atac.frags\n",
    ")\n",
    "object <- Seurat::CreateSeuratObject(counts = atac.assay, assay = \"peaks\")\n",
    "object$sample <- sample\n",
    "Annotation(object) <- annotations"
   ]
  },
  {
   "cell_type": "markdown",
   "id": "a1523037-8d60-403b-b88e-497bf82be37d",
   "metadata": {},
   "source": [
    "## add coordinates from image "
   ]
  },
  {
   "cell_type": "code",
   "execution_count": 5,
   "id": "e14a1ff6-1498-4df4-a1c4-3ba0ffa4ead4",
   "metadata": {
    "collapsed": true,
    "jupyter": {
     "outputs_hidden": true
    }
   },
   "outputs": [
    {
     "name": "stderr",
     "output_type": "stream",
     "text": [
      "Warning message:\n",
      "“Adding image data that isn't associated with any assay present”\n",
      "Warning message:\n",
      "“No assay specified, setting assay as RNA by default.”\n"
     ]
    }
   ],
   "source": [
    "image <- Read10X_Image(image.dir = imagefile, filter.matrix = T)\n",
    "coord <- image@coordinates\n",
    "rownames(coord) <- paste0(rownames(coord), \"-1\") # RF data need\n",
    "image@coordinates <- coord\n",
    "cells <- rownames(coord)\n",
    "image <- image[Cells(x = object)]\n",
    "DefaultAssay(object = image) <- \"Spatial\"\n",
    "object[[\"slice1\"]] <- image\n",
    "cod <- object@images$slice1@coordinates[,c(\"row\", \"col\")]\n",
    "colnames(cod) <- c(\"cod1\", \"cod2\")\n",
    "drobj <- CreateDimReducObject(\n",
    "  embeddings = as.matrix(cod),\n",
    "  key = \"cod_\"\n",
    ")\n",
    "object@reductions[[\"cod\"]] <- drobj"
   ]
  },
  {
   "cell_type": "markdown",
   "id": "010be671-d69c-476e-8b8e-305e3848c097",
   "metadata": {},
   "source": [
    "## calculate gene activity as RNA assay"
   ]
  },
  {
   "cell_type": "code",
   "execution_count": 6,
   "id": "e4c4818f-0d9d-470a-a7d4-c0c88f13cdac",
   "metadata": {
    "collapsed": true,
    "jupyter": {
     "outputs_hidden": true
    }
   },
   "outputs": [
    {
     "name": "stderr",
     "output_type": "stream",
     "text": [
      "Extracting gene coordinates\n",
      "\n",
      "Extracting reads overlapping genomic regions\n",
      "\n",
      "Warning message:\n",
      "“Adding image data that isn't associated with any assay present”\n"
     ]
    }
   ],
   "source": [
    "DefaultAssay(object) <- \"peaks\"\n",
    "Annotation(object) <- annotations\n",
    "gene.activities <- GeneActivity(object)\n",
    "genes <- rownames(gene.activities)\n",
    "genes_filter <- c(grep(\"Pcdh\", genes), grep(\"PCDH\", genes),\n",
    "                  grep(\"UGT\", genes), grep(\"Ugt\", genes),\n",
    "                  grep(\"Gm\", genes), grep(\"Rik\", genes))\n",
    "gene.activities_filtered <- gene.activities[-genes_filter,]\n",
    "object[['RNA']] <- CreateAssayObject(counts = gene.activities_filtered)\n",
    "object <- subset(object, cells = cells)"
   ]
  },
  {
   "cell_type": "markdown",
   "id": "040619b0-ccf2-41c1-aa2f-6edb948df4ec",
   "metadata": {},
   "source": [
    "# Preprocess"
   ]
  },
  {
   "cell_type": "markdown",
   "id": "8e636921-b512-4ab2-954a-f9b15a9d8b5e",
   "metadata": {},
   "source": [
    "## dimension reduction"
   ]
  },
  {
   "cell_type": "markdown",
   "id": "749af966-71d9-4972-9a21-97a35be7fda2",
   "metadata": {},
   "source": [
    "eSpatial conducted dimension reduction for the gene-by-spot matrix and peak-by-spot matrix separately."
   ]
  },
  {
   "cell_type": "markdown",
   "id": "11ddf723-d90d-4b69-a5b7-6e9f3491a741",
   "metadata": {},
   "source": [
    " For the gene-by-spot matrix, it employed principal component analysis (PCA) for dimensionality reduction and returned the top 20 principal components (PCs) matrix to generate a PC-by-spot matrix. "
   ]
  },
  {
   "cell_type": "code",
   "execution_count": 7,
   "id": "831a3a62-f691-4778-b06e-9ae37f6103a9",
   "metadata": {
    "collapsed": true,
    "jupyter": {
     "outputs_hidden": true
    }
   },
   "outputs": [
    {
     "name": "stderr",
     "output_type": "stream",
     "text": [
      "Centering and scaling data matrix\n",
      "\n",
      "PC_ 1 \n",
      "Positive:  Gse1, Ncor2, Zmiz1, Msi2, Nfix, Rara, Casz1, Nol4l, Sept9, Bahcc1 \n",
      "\t   Bcor, Ccdc85c, Ptch1, Cuedc1, Cic, Ephb2, Macrod1, Notch1, Prdm16, Rai1 \n",
      "\t   Ssbp3, Tns1, Ski, Ptprs, Mnt, Ahdc1, Smad6, Anks1, Tcf7l1, Foxp4 \n",
      "Negative:  Chl1, Skint6, Brinp3, Cdh12, Ncam2, Kcnh7, Galntl6.1, Kcnt2, Lrfn5, Cntn6 \n",
      "\t   Epha5, Luzp2, Cdh8, Trdn, Klhl1, Trhde, Ppfia2, Gabrb1, Spock3, Cdh7 \n",
      "\t   Ndst4, Olfm3, Hcn1, Khdrbs2, Dok6, Sfi1, Lrrc7, Cnbd1, Ano3, Ralyl \n",
      "PC_ 2 \n",
      "Positive:  Uba7, Ntf3, Gpc3, Prrx2, Twist2, Gpr124, Synpo, Rarg, Wwp2, Ror2 \n",
      "\t   Rassf3, Col23a1, Rhoc, Cbfa2t3, Itga9, Tmem176a, Plac1, Lamc3, Wnt11, Col26a1 \n",
      "\t   Myh9, Myh6, Prdm16, Lsp1, Col5a1, Pcolce, Itga11, Alx4, Mdfi, Ece1 \n",
      "Negative:  Celf4, Kcnk10, Srgap3, Srrm4, Nxph1, Ttyh1, Ephb1, Nrcam, Lfng, Nova2 \n",
      "\t   Cdh22, Ildr2, Atp11c, Dtx4, Bai1, Map1b, Mageb18, Sox1, Nkx2-2, Rgma \n",
      "\t   Lhcgr, Btbd17, Cxxc4, Ntn1, Nuak2, Tppp3, Snrpn.1, Rhbdl3, Gpm6b, Elavl3 \n",
      "PC_ 3 \n",
      "Positive:  Gpc3, Plac1, Col23a1, Uba7, Ntf3, Gpr124, Col26a1, Rarg, Tmem164, Ror2 \n",
      "\t   Twist2, Dnm1, Ahnak, Ext2, Ppargc1b, Glis1, Erg, Prrx2, Islr, Smoc2 \n",
      "\t   Hdac8, Il16, Wdr86, Trpc5, Coro7, Ebf3, Nfatc4, Smad6, Col5a1, Nfatc1 \n",
      "Negative:  Srgap3, Nova2, Btbd17, Nuak2, Ttyh1, Sox1, Sars, Map1b, Nes, Lfng \n",
      "\t   Gpr56, Dtx4, Insm1, Dll1, Ephb1, Pax6, Fam181a, Elavl3, Mtx1, Celsr2 \n",
      "\t   Kcnj10, Sox21, Thbs3, Nkx2-2, Lemd1, Sema5b, Tppp3, Ephb2, Fabp7, Sox3 \n",
      "PC_ 4 \n",
      "Positive:  Zfp36l2, Smad7, Irx5, Rara, Gas1, Slc3a2, Ntn3, Nfix, Mnt, Irx2 \n",
      "\t   Hnf4g, AA386476, Cic, Ephb3, Vmn2r75, Sall1, Akt1s1, Gpr124, Lamtor2, Crlf2 \n",
      "\t   Zcchc24, Rtkn, Nfatc4, Isyna1, Egr1, Six1, Ing2, Ddc, Sult2a6, Clcf1 \n",
      "Negative:  Rbfox3, Atp2b2, Mad1l1, Srrm4, Efcab6, Card11, Grik3, Loxhd1, Tex11, Igsf21 \n",
      "\t   Stk32b, Kcnq2, Slc35f3, Nlrc5, Nfasc, Ttc28, Sorcs2, Myom3, Ppp2r2c, Dnah17 \n",
      "\t   Sgsm1, Acsf3, Mroh7, Rasal1, CK137956, Syk, Ostm1, Reps2, Six3, Pde2a \n",
      "PC_ 5 \n",
      "Positive:  Pak3, Ophn1, Trpc5, Phex, Cnksr2, Fam120c, Ar, Tex11, Zcchc16, Heph \n",
      "\t   Rps6ka6, Slc16a2, Zc3h12b, Col4a6, Nhs, Atp11c, Hdx, Chrdl1, Glra2, Gpm6b \n",
      "\t   Pola1, Fam46d, Hsf3, Htr2c, Gpr112, Arhgef9, F8, Rragb, Tex16, Abcb7 \n",
      "Negative:  Gabra5, Sult2a4, Vmn2r60, Vmn2r61, Cftr, Atp2b2, Nlrp5, Nlrp9b, Ppapdc3, Snrpn.1 \n",
      "\t   Zfp536, Card11, Klre1, Olfr366, Ano5, Tgm6, Vmn2r44, Sult2a3, Mrgpra2b, Tox2 \n",
      "\t   Stra6, Bpifa3, Sult2a5, Glis1, Nlrp9c, Mrgprb1, Obox1, Klf13, BC067074, Vmn2r63 \n",
      "\n",
      "Warning message:\n",
      "“The default method for RunUMAP has changed from calling Python UMAP via reticulate to the R-native UWOT using the cosine metric\n",
      "To use Python UMAP via reticulate, set umap.method to 'umap-learn' and metric to 'correlation'\n",
      "This message will be shown once per session”\n",
      "09:55:18 UMAP embedding parameters a = 0.9922 b = 1.112\n",
      "\n",
      "09:55:18 Read 2099 rows and found 20 numeric columns\n",
      "\n",
      "09:55:18 Using Annoy for neighbor search, n_neighbors = 30\n",
      "\n",
      "09:55:18 Building Annoy index with metric = cosine, n_trees = 50\n",
      "\n",
      "0%   10   20   30   40   50   60   70   80   90   100%\n",
      "\n",
      "[----|----|----|----|----|----|----|----|----|----|\n",
      "\n",
      "*\n",
      "*\n",
      "*\n",
      "*\n",
      "*\n",
      "*\n",
      "*\n",
      "*\n",
      "*\n",
      "*\n",
      "*\n",
      "*\n",
      "*\n",
      "*\n",
      "*\n",
      "*\n",
      "*\n",
      "*\n",
      "*\n",
      "*\n",
      "*\n",
      "*\n",
      "*\n",
      "*\n",
      "*\n",
      "*\n",
      "*\n",
      "*\n",
      "*\n",
      "*\n",
      "*\n",
      "*\n",
      "*\n",
      "*\n",
      "*\n",
      "*\n",
      "*\n",
      "*\n",
      "*\n",
      "*\n",
      "*\n",
      "*\n",
      "*\n",
      "*\n",
      "*\n",
      "*\n",
      "*\n",
      "*\n",
      "*\n",
      "*\n",
      "|\n",
      "\n",
      "09:55:19 Writing NN index file to temp file /tmp/RtmpVNNL4c/file26ab927976350\n",
      "\n",
      "09:55:19 Searching Annoy index using 1 thread, search_k = 3000\n",
      "\n",
      "09:55:19 Annoy recall = 100%\n",
      "\n",
      "09:55:20 Commencing smooth kNN distance calibration using 1 thread\n",
      " with target n_neighbors = 30\n",
      "\n",
      "09:55:21 Initializing from normalized Laplacian + noise (using irlba)\n",
      "\n",
      "09:55:22 Commencing optimization for 500 epochs, with 100904 positive edges\n",
      "\n",
      "09:55:30 Optimization finished\n",
      "\n",
      "Computing nearest neighbor graph\n",
      "\n",
      "Computing SNN\n",
      "\n"
     ]
    },
    {
     "name": "stdout",
     "output_type": "stream",
     "text": [
      "Modularity Optimizer version 1.3.0 by Ludo Waltman and Nees Jan van Eck\n",
      "\n",
      "Number of nodes: 2099\n",
      "Number of edges: 107114\n",
      "\n",
      "Running Louvain algorithm...\n",
      "Maximum modularity in 10 random starts: 0.7519\n",
      "Number of communities: 6\n",
      "Elapsed time: 0 seconds\n"
     ]
    }
   ],
   "source": [
    "#---RNA clustering \n",
    "DefaultAssay(object) <- \"RNA\"\n",
    "object <- NormalizeData(object) %>% \n",
    "    FindVariableFeatures() %>% \n",
    "    ScaleData() %>% \n",
    "    RunPCA() %>% \n",
    "    RunUMAP(dims = 1:20) %>% \n",
    "    FindNeighbors(dims = 1:20) %>% \n",
    "    FindClusters()\n",
    "\n",
    "object$seurat_clusters_rna <- paste0(\"R\", object$seurat_clusters)\n",
    "object$seurat_clusters_rna <- factor(object$seurat_clusters_rna, \n",
    "                                     levels = paste0(\"R\", 0:length(object$seurat_clusters)))"
   ]
  },
  {
   "cell_type": "markdown",
   "id": "4cf153df-3d22-4743-a57a-ddda254b4aa6",
   "metadata": {},
   "source": [
    "For the peak-by-spot matrix, eSpatial adopted an iterative latent semantic indexing (LSI) approach to reduce dimensions and returned the top 20 LSI matrix to generate an LSI-by-spot matrix, excluding the foremost LSI corresponding to sequencing depth variation."
   ]
  },
  {
   "cell_type": "code",
   "execution_count": 8,
   "id": "576608bf-cadd-4373-8411-1b6612890a3e",
   "metadata": {
    "collapsed": true,
    "jupyter": {
     "outputs_hidden": true
    },
    "tags": []
   },
   "outputs": [
    {
     "name": "stderr",
     "output_type": "stream",
     "text": [
      "Performing TF-IDF normalization\n",
      "\n",
      "Warning message in RunTFIDF.default(object = GetAssayData(object = object, slot = \"counts\"), :\n",
      "“Some features contain 0 total counts”\n",
      "Running SVD\n",
      "\n",
      "Scaling cell embeddings\n",
      "\n",
      "09:55:56 UMAP embedding parameters a = 0.9922 b = 1.112\n",
      "\n",
      "09:55:56 Read 2099 rows and found 19 numeric columns\n",
      "\n",
      "09:55:56 Using Annoy for neighbor search, n_neighbors = 30\n",
      "\n",
      "09:55:56 Building Annoy index with metric = cosine, n_trees = 50\n",
      "\n",
      "0%   10   20   30   40   50   60   70   80   90   100%\n",
      "\n",
      "[----|----|----|----|----|----|----|----|----|----|\n",
      "\n",
      "*\n",
      "*\n",
      "*\n",
      "*\n",
      "*\n",
      "*\n",
      "*\n",
      "*\n",
      "*\n",
      "*\n",
      "*\n",
      "*\n",
      "*\n",
      "*\n",
      "*\n",
      "*\n",
      "*\n",
      "*\n",
      "*\n",
      "*\n",
      "*\n",
      "*\n",
      "*\n",
      "*\n",
      "*\n",
      "*\n",
      "*\n",
      "*\n",
      "*\n",
      "*\n",
      "*\n",
      "*\n",
      "*\n",
      "*\n",
      "*\n",
      "*\n",
      "*\n",
      "*\n",
      "*\n",
      "*\n",
      "*\n",
      "*\n",
      "*\n",
      "*\n",
      "*\n",
      "*\n",
      "*\n",
      "*\n",
      "*\n",
      "*\n",
      "|\n",
      "\n",
      "09:55:56 Writing NN index file to temp file /tmp/RtmpVNNL4c/file26ab92d14ed9d\n",
      "\n",
      "09:55:56 Searching Annoy index using 1 thread, search_k = 3000\n",
      "\n",
      "09:55:57 Annoy recall = 100%\n",
      "\n",
      "09:55:58 Commencing smooth kNN distance calibration using 1 thread\n",
      " with target n_neighbors = 30\n",
      "\n",
      "09:55:59 Initializing from normalized Laplacian + noise (using irlba)\n",
      "\n",
      "09:55:59 Commencing optimization for 500 epochs, with 93596 positive edges\n",
      "\n",
      "09:56:07 Optimization finished\n",
      "\n",
      "Computing nearest neighbor graph\n",
      "\n",
      "Computing SNN\n",
      "\n"
     ]
    },
    {
     "name": "stdout",
     "output_type": "stream",
     "text": [
      "Modularity Optimizer version 1.3.0 by Ludo Waltman and Nees Jan van Eck\n",
      "\n",
      "Number of nodes: 2099\n",
      "Number of edges: 93949\n",
      "\n",
      "Running smart local moving algorithm...\n",
      "Maximum modularity in 10 random starts: 0.8137\n",
      "Number of communities: 11\n",
      "Elapsed time: 0 seconds\n"
     ]
    },
    {
     "name": "stderr",
     "output_type": "stream",
     "text": [
      "2 singletons identified. 9 final clusters.\n",
      "\n"
     ]
    },
    {
     "name": "stdout",
     "output_type": "stream",
     "text": [
      "Modularity Optimizer version 1.3.0 by Ludo Waltman and Nees Jan van Eck\n",
      "\n",
      "Number of nodes: 2099\n",
      "Number of edges: 93949\n",
      "\n",
      "Running Louvain algorithm...\n",
      "Maximum modularity in 10 random starts: 0.8570\n",
      "Number of communities: 10\n",
      "Elapsed time: 0 seconds\n"
     ]
    },
    {
     "name": "stderr",
     "output_type": "stream",
     "text": [
      "2 singletons identified. 8 final clusters.\n",
      "\n"
     ]
    },
    {
     "data": {
      "image/png": "[encoded data removed]",
      "text/plain": [
       "plot without title"
      ]
     },
     "metadata": {
      "image/png": {
       "height": 420,
       "width": 420
      }
     },
     "output_type": "display_data"
    }
   ],
   "source": [
    "#---ATAC clustering \n",
    "DefaultAssay(object) <- \"peaks\"\n",
    "object <- FindTopFeatures(object, min.cutoff = 10)\n",
    "object <- RunTFIDF(object)\n",
    "object <- RunSVD(object)\n",
    "DepthCor(object, n = 30)\n",
    "object <- RunUMAP(object, reduction = 'lsi', dims = 2:20) %>% \n",
    "    FindNeighbors(reduction = 'lsi', dims = 2:20) %>% \n",
    "    FindClusters(algorithm = 3) \n",
    "\n",
    "object <- FindClusters(object, resolution = 0.5) \n",
    "object$seurat_clusters_atac <- paste0(\"A\", object$seurat_clusters)\n",
    "object$seurat_clusters_atac <- factor(object$seurat_clusters_atac,\n",
    "                                      levels = paste0(\"A\", 0:length(unique(object$seurat_clusters_atac))))"
   ]
  },
  {
   "cell_type": "markdown",
   "id": "d4083af8-115f-4b5b-a9aa-2f8fb508f6e8",
   "metadata": {},
   "source": [
    "eSpatial utilizes the FindMultiModalNeighbors() function from Seurat to create a weighted nearest neighbor (WNN) graph. This approach is employed to construct a joint neighbor graph incorporating both assays, and the results are visualized for analysis."
   ]
  },
  {
   "cell_type": "code",
   "execution_count": 9,
   "id": "8af13f73-c8d1-486d-a2e9-6a2bbf446d38",
   "metadata": {
    "collapsed": true,
    "jupyter": {
     "outputs_hidden": true
    },
    "scrolled": true
   },
   "outputs": [
    {
     "name": "stderr",
     "output_type": "stream",
     "text": [
      "Calculating cell-specific modality weights\n",
      "\n",
      "Finding 20 nearest neighbors for each modality.\n",
      "\n",
      "Calculating kernel bandwidths\n",
      "\n",
      "Warning message in FindMultiModalNeighbors(object = object, reduction.list = list(\"pca\", :\n",
      "“The number of provided modality.weight.name is not equal to the number of modalities. RNA.weight peaks.weight are used to store the modality weights”\n",
      "Finding multimodal neighbors\n",
      "\n",
      "Constructing multimodal KNN graph\n",
      "\n",
      "Constructing multimodal SNN graph\n",
      "\n",
      "09:56:13 UMAP embedding parameters a = 0.9922 b = 1.112\n",
      "\n",
      "09:56:13 Commencing smooth kNN distance calibration using 1 thread\n",
      " with target n_neighbors = 20\n",
      "\n",
      "09:56:15 Initializing from normalized Laplacian + noise (using irlba)\n",
      "\n",
      "09:56:15 Commencing optimization for 500 epochs, with 68476 positive edges\n",
      "\n",
      "09:56:23 Optimization finished\n",
      "\n"
     ]
    },
    {
     "name": "stdout",
     "output_type": "stream",
     "text": [
      "Modularity Optimizer version 1.3.0 by Ludo Waltman and Nees Jan van Eck\n",
      "\n",
      "Number of nodes: 2099\n",
      "Number of edges: 111397\n",
      "\n",
      "Running smart local moving algorithm...\n",
      "Maximum modularity in 10 random starts: 0.8888\n",
      "Number of communities: 8\n",
      "Elapsed time: 0 seconds\n"
     ]
    }
   ],
   "source": [
    "# build a joint neighbor graph using both assays\n",
    "object <- FindMultiModalNeighbors(\n",
    "    object = object, \n",
    "    reduction.list = list(\"pca\", \"lsi\"), \n",
    "    dims.list = list(1:20, 2:20), \n",
    "    modality.weight.name = \"peak.weight\", \n",
    "    verbose = TRUE\n",
    ")\n",
    "\n",
    "# build a joint UMAP visualization\n",
    "object <- RunUMAP(\n",
    "    object = object, \n",
    "    nn.name = \"weighted.nn\", \n",
    "    assay = \"peaks\", \n",
    "    verbose = TRUE\n",
    ")\n",
    "\n",
    "object <- FindClusters(object, graph.name = \"wsnn\", algorithm = 3, resolution = 0.5)\n",
    "object$seurat_clusters_joint <- paste0(\"J\", object$seurat_clusters)\n",
    "object$seurat_clusters_joint <- factor(object$seurat_clusters_joint, \n",
    "                                       levels = paste0(\"J\", 0:length(object$seurat_clusters_joint)))"
   ]
  },
  {
   "cell_type": "markdown",
   "id": "4273ab97-05d8-43a5-870a-9512422fcee9",
   "metadata": {},
   "source": [
    "Save the file and convert it to .h5ad format for subsequent analysis in scanpy."
   ]
  },
  {
   "cell_type": "code",
   "execution_count": 10,
   "id": "6a79c078-ea03-4b44-9121-a6c3f2094bec",
   "metadata": {},
   "outputs": [],
   "source": [
    "#---RNA\n",
    "DefaultAssay(object) <- \"RNA\"\n",
    "sub <- DietSeurat(object, assays = \"RNA\")\n",
    "meta <- sub@meta.data\n",
    "meta <- meta[,c(\"nCount_peaks\", \"nFeature_peaks\", \"seurat_clusters_rna\", \"seurat_clusters_atac\", \"seurat_clusters_joint\")]\n",
    "coord <- object@reductions$cod@cell.embeddings\n",
    "meta <- cbind(meta, coord)\n",
    "sub@meta.data <- meta"
   ]
  },
  {
   "cell_type": "code",
   "execution_count": 11,
   "id": "7e270d2e-0fc0-482c-9b59-b952b9ba112f",
   "metadata": {
    "collapsed": true,
    "jupyter": {
     "outputs_hidden": true
    }
   },
   "outputs": [
    {
     "name": "stderr",
     "output_type": "stream",
     "text": [
      "Warning message:\n",
      "“Overwriting previous file ../outs/E11_PCA.h5Seurat”\n",
      "Creating h5Seurat file for version 3.1.5.9900\n",
      "\n",
      "Adding counts for RNA\n",
      "\n",
      "Adding data for RNA\n",
      "\n",
      "Adding variable features for RNA\n",
      "\n",
      "Adding feature-level metadata for RNA\n",
      "\n",
      "Adding image slice1\n",
      "\n",
      "Validating h5Seurat file\n",
      "\n",
      "Warning message:\n",
      "“Cannot find assay Spatial in the H5Seurat file”\n",
      "Adding data from RNA as X\n",
      "\n",
      "Transfering meta.features to var\n",
      "\n",
      "Adding counts from RNA as raw\n",
      "\n",
      "Transfering meta.features to raw/var\n",
      "\n",
      "Transfering meta.data to obs\n",
      "\n"
     ]
    }
   ],
   "source": [
    "SaveH5Seurat(sub, filename = \"../outs/E11_PCA.h5Seurat\", overwrite = T)\n",
    "Convert(\"../outs/E11_PCA.h5Seurat\", \"../outs/E11_PCA.h5ad\", overwrite = T)"
   ]
  },
  {
   "cell_type": "code",
   "execution_count": 12,
   "id": "7e832e38-cbd8-4323-90f7-550dee7d92c8",
   "metadata": {
    "collapsed": true,
    "jupyter": {
     "outputs_hidden": true
    }
   },
   "outputs": [
    {
     "name": "stderr",
     "output_type": "stream",
     "text": [
      "Warning message:\n",
      "“Feature names cannot have underscores ('_'), replacing with dashes ('-')”\n"
     ]
    }
   ],
   "source": [
    "#---ATAC\n",
    "mat <- object@reductions$lsi@cell.embeddings[,2:50]\n",
    "assay <- CreateAssayObject(counts = mat)\n",
    "sub <- CreateSeuratObject(counts = t(mat),\n",
    "                         meta.data = meta)"
   ]
  },
  {
   "cell_type": "code",
   "execution_count": 13,
   "id": "aa748819-f82d-4dc2-87b0-2bf620b9d4ac",
   "metadata": {
    "collapsed": true,
    "jupyter": {
     "outputs_hidden": true
    }
   },
   "outputs": [
    {
     "name": "stderr",
     "output_type": "stream",
     "text": [
      "Warning message:\n",
      "“Overwriting previous file ../outs/E11_LSI_-1.h5Seurat”\n",
      "Creating h5Seurat file for version 3.1.5.9900\n",
      "\n",
      "Adding counts for RNA\n",
      "\n",
      "Adding data for RNA\n",
      "\n",
      "No variable features found for RNA\n",
      "\n",
      "No feature-level metadata found for RNA\n",
      "\n",
      "Validating h5Seurat file\n",
      "\n",
      "Adding data from RNA as X\n",
      "\n",
      "Adding counts from RNA as raw\n",
      "\n",
      "Transfering meta.data to obs\n",
      "\n"
     ]
    }
   ],
   "source": [
    "SaveH5Seurat(sub, filename = \"../outs/E11_LSI_-1.h5Seurat\", overwrite = T)\n",
    "Convert(\"../outs/E11_LSI_-1.h5Seurat\", \"../outs/E11_LSI_-1.h5ad\", overwrite = T)"
   ]
  },
  {
   "cell_type": "code",
   "execution_count": 14,
   "id": "c55c064c-8de2-4c92-997f-f6b1a67f45cd",
   "metadata": {
    "collapsed": true,
    "jupyter": {
     "outputs_hidden": true
    }
   },
   "outputs": [
    {
     "name": "stderr",
     "output_type": "stream",
     "text": [
      "Warning message:\n",
      "“Feature names cannot have underscores ('_'), replacing with dashes ('-')”\n"
     ]
    }
   ],
   "source": [
    "#---joint\n",
    "mat1 <- object@reductions$lsi@cell.embeddings[,2:50]\n",
    "mat2 <- object@reductions$pca@cell.embeddings[,1:50]\n",
    "mat <- cbind(mat1, mat2)\n",
    "assay <- CreateAssayObject(counts = mat)\n",
    "sub <- CreateSeuratObject(counts = t(mat),\n",
    "                         meta.data = meta)"
   ]
  },
  {
   "cell_type": "code",
   "execution_count": 15,
   "id": "e885af28-2e9a-4d78-95c4-217e22573e82",
   "metadata": {
    "collapsed": true,
    "jupyter": {
     "outputs_hidden": true
    }
   },
   "outputs": [
    {
     "name": "stderr",
     "output_type": "stream",
     "text": [
      "Warning message:\n",
      "“Overwriting previous file ../outs/E11_PCA_LSI.h5Seurat”\n",
      "Creating h5Seurat file for version 3.1.5.9900\n",
      "\n",
      "Adding counts for RNA\n",
      "\n",
      "Adding data for RNA\n",
      "\n",
      "No variable features found for RNA\n",
      "\n",
      "No feature-level metadata found for RNA\n",
      "\n",
      "Validating h5Seurat file\n",
      "\n",
      "Adding data from RNA as X\n",
      "\n",
      "Adding counts from RNA as raw\n",
      "\n",
      "Transfering meta.data to obs\n",
      "\n"
     ]
    }
   ],
   "source": [
    "SaveH5Seurat(sub, filename <- \"../outs/E11_PCA_LSI.h5Seurat\", overwrite = T)\n",
    "Convert(\"../outs/E11_PCA_LSI.h5Seurat\", \"../outs/E11_PCA_LSI.h5ad\", overwrite = T)"
   ]
  },
  {
   "cell_type": "code",
   "execution_count": null,
   "id": "ebcc27c1-6522-4a2c-8a95-a77fb06944fe",
   "metadata": {},
   "outputs": [],
   "source": []
  }
 ],
 "metadata": {
  "kernelspec": {
   "display_name": "Python 3 (ipykernel)",
   "language": "python",
   "name": "python3"
  },
  "language_info": {
   "codemirror_mode": {
    "name": "ipython",
    "version": 3
   },
   "file_extension": ".py",
   "mimetype": "text/x-python",
   "name": "python",
   "nbconvert_exporter": "python",
   "pygments_lexer": "ipython3",
   "version": "3.10.6"
  }
 },
 "nbformat": 4,
 "nbformat_minor": 5
}
